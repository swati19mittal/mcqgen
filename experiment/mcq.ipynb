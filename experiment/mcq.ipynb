{
 "cells": [
  {
   "cell_type": "code",
   "execution_count": 9,
   "metadata": {},
   "outputs": [],
   "source": [
    "from langchain.llms import OpenAI\n",
    "from langchain.chat_models import ChatOpenAI\n",
    "from langchain.prompts import PromptTemplate\n",
    "from langchain.chains import LLMChain\n",
    "from langchain.chains import SequentialChain\n",
    "from langchain.callbacks import get_openai_callback\n",
    "import os\n",
    "import json\n",
    "import pandas as pd\n",
    "import traceback\n",
    "from dotenv import load_dotenv\n",
    "import PyPDF2"
   ]
  },
  {
   "cell_type": "code",
   "execution_count": 10,
   "metadata": {},
   "outputs": [],
   "source": [
    "from langchain.chat_models import ChatOpenAI"
   ]
  },
  {
   "cell_type": "code",
   "execution_count": 11,
   "metadata": {},
   "outputs": [
    {
     "data": {
      "text/plain": [
       "True"
      ]
     },
     "execution_count": 11,
     "metadata": {},
     "output_type": "execute_result"
    }
   ],
   "source": [
    "from dotenv import load_dotenv\n",
    "load_dotenv()"
   ]
  },
  {
   "cell_type": "code",
   "execution_count": 12,
   "metadata": {},
   "outputs": [],
   "source": [
    "KEY = os.getenv(\"TOGETHER_API_KEY\")"
   ]
  },
  {
   "cell_type": "code",
   "execution_count": 13,
   "metadata": {},
   "outputs": [
    {
     "name": "stdout",
     "output_type": "stream",
     "text": [
      "7ebf4022abdc280634e753f9db99f15a862a70e78e02ca93ae22195aa3503803\n"
     ]
    }
   ],
   "source": [
    "print(KEY)"
   ]
  },
  {
   "cell_type": "code",
   "execution_count": 14,
   "metadata": {},
   "outputs": [],
   "source": [
    "llm = ChatOpenAI(\n",
    "    openai_api_key=KEY, \n",
    "    model_name=\"mistralai/Mistral-7B-Instruct-v0.2\",  # or any Together model\n",
    "    openai_api_base=\"https://api.together.xyz/v1\",    # <-- required\n",
    "    temperature=0.3\n",
    ")\n"
   ]
  },
  {
   "cell_type": "code",
   "execution_count": 15,
   "metadata": {},
   "outputs": [
    {
     "data": {
      "text/plain": [
       "ChatOpenAI(client=<openai.resources.chat.completions.completions.Completions object at 0x1431cfc10>, async_client=<openai.resources.chat.completions.completions.AsyncCompletions object at 0x141b07bb0>, model_name='mistralai/Mistral-7B-Instruct-v0.2', temperature=0.3, openai_api_key='7ebf4022abdc280634e753f9db99f15a862a70e78e02ca93ae22195aa3503803', openai_api_base='https://api.together.xyz/v1', openai_proxy='')"
      ]
     },
     "execution_count": 15,
     "metadata": {},
     "output_type": "execute_result"
    }
   ],
   "source": [
    "llm"
   ]
  },
  {
   "cell_type": "code",
   "execution_count": 16,
   "metadata": {},
   "outputs": [],
   "source": [
    "RESPONSE_JSON = {\n",
    "    \"1\": {\n",
    "        \"mcq\": \"multiple choice question\",\n",
    "        \"options\": {\n",
    "            \"a\": \"choice here\",\n",
    "            \"b\": \"choice here\",\n",
    "            \"c\": \"choice here\",\n",
    "            \"d\": \"choice here\",\n",
    "        },\n",
    "        \"correct\": \"correct answer\",\n",
    "    },\n",
    "    \"2\": {\n",
    "        \"mcq\": \"multiple choice question\",\n",
    "        \"options\": {\n",
    "            \"a\": \"choice here\",\n",
    "            \"b\": \"choice here\",\n",
    "            \"c\": \"choice here\",\n",
    "            \"d\": \"choice here\",\n",
    "        },\n",
    "        \"correct\": \"correct answer\",\n",
    "    },\n",
    "    \"3\": {\n",
    "        \"mcq\": \"multiple choice question\",\n",
    "        \"options\": {\n",
    "            \"a\": \"choice here\",\n",
    "            \"b\": \"choice here\",\n",
    "            \"c\": \"choice here\",\n",
    "            \"d\": \"choice here\",\n",
    "        },\n",
    "        \"correct\": \"correct answer\",\n",
    "    },\n",
    "}"
   ]
  },
  {
   "cell_type": "code",
   "execution_count": 17,
   "metadata": {},
   "outputs": [],
   "source": [
    "TEMPLATE=\"\"\"\n",
    "Text:{text}\n",
    "You are an expert MCQ maker. Given the above text, it is your job to \\\n",
    "create a quiz  of {number} multiple choice questions for {subject} students in {tone} tone. \n",
    "Make sure the questions are not repeated and check all the questions to be conforming the text as well.\n",
    "Make sure to format your response like  RESPONSE_JSON below  and use it as a guide. \\\n",
    "Ensure to make {number} MCQs\n",
    "### RESPONSE_JSON\n",
    "{response_json}\n",
    "\n",
    "\"\"\""
   ]
  },
  {
   "cell_type": "code",
   "execution_count": 18,
   "metadata": {},
   "outputs": [],
   "source": [
    "quiz_generation_prompt = PromptTemplate(\n",
    "    input_variables=[\"text\", \"number\", \"subject\", \"tone\", \"response_json\"],\n",
    "    template=TEMPLATE\n",
    "    )"
   ]
  },
  {
   "cell_type": "code",
   "execution_count": 33,
   "metadata": {},
   "outputs": [],
   "source": [
    "quiz_chain=LLMChain(llm=llm, prompt=quiz_generation_prompt, output_key=\"quiz\", verbose=False)"
   ]
  },
  {
   "cell_type": "code",
   "execution_count": 34,
   "metadata": {},
   "outputs": [
    {
     "data": {
      "text/plain": [
       "LLMChain(prompt=PromptTemplate(input_variables=['number', 'response_json', 'subject', 'text', 'tone'], template='\\nText:{text}\\nYou are an expert MCQ maker. Given the above text, it is your job to create a quiz  of {number} multiple choice questions for {subject} students in {tone} tone. \\nMake sure the questions are not repeated and check all the questions to be conforming the text as well.\\nMake sure to format your response like  RESPONSE_JSON below  and use it as a guide. Ensure to make {number} MCQs\\n### RESPONSE_JSON\\n{response_json}\\n\\n'), llm=ChatOpenAI(client=<openai.resources.chat.completions.completions.Completions object at 0x1431cfc10>, async_client=<openai.resources.chat.completions.completions.AsyncCompletions object at 0x141b07bb0>, model_name='mistralai/Mistral-7B-Instruct-v0.2', temperature=0.3, openai_api_key='7ebf4022abdc280634e753f9db99f15a862a70e78e02ca93ae22195aa3503803', openai_api_base='https://api.together.xyz/v1', openai_proxy=''), output_key='quiz')"
      ]
     },
     "execution_count": 34,
     "metadata": {},
     "output_type": "execute_result"
    }
   ],
   "source": [
    "quiz_chain"
   ]
  },
  {
   "cell_type": "code",
   "execution_count": 35,
   "metadata": {},
   "outputs": [],
   "source": [
    "TEMPLATE2=\"\"\"\n",
    "You are an expert english grammarian and writer. Given a Multiple Choice Quiz for {subject} students.\\\n",
    "You need to evaluate the complexity of the question and give a complete analysis of the quiz. Only use at max 50 words for complexity analysis. \n",
    "if the quiz is not at per with the cognitive and analytical abilities of the students,\\\n",
    "update the quiz questions which needs to be changed and change the tone such that it perfectly fits the student abilities\n",
    "Quiz_MCQs:\n",
    "{quiz}\n",
    "\n",
    "Check from an expert English Writer of the above quiz:\n",
    "\"\"\""
   ]
  },
  {
   "cell_type": "code",
   "execution_count": 36,
   "metadata": {},
   "outputs": [],
   "source": [
    "quiz_evaluation_prompt=PromptTemplate(input_variables=[\"subject\", \"quiz\"], template=TEMPLATE2)"
   ]
  },
  {
   "cell_type": "code",
   "execution_count": 37,
   "metadata": {},
   "outputs": [],
   "source": [
    "review_chain=LLMChain(llm=llm, prompt=quiz_evaluation_prompt, output_key=\"review\", verbose=False)"
   ]
  },
  {
   "cell_type": "code",
   "execution_count": 38,
   "metadata": {},
   "outputs": [],
   "source": [
    "generate_evaluate_chain=SequentialChain(chains=[quiz_chain, review_chain], input_variables=[\"text\", \"number\", \"subject\", \"tone\", \"response_json\"],\n",
    "                                        output_variables=[\"quiz\", \"review\"], verbose=False,)"
   ]
  },
  {
   "cell_type": "code",
   "execution_count": 39,
   "metadata": {},
   "outputs": [],
   "source": [
    "file_path = r\"/Users/swatimittal/mcqgen/data.txt\""
   ]
  },
  {
   "cell_type": "code",
   "execution_count": 40,
   "metadata": {},
   "outputs": [
    {
     "data": {
      "text/plain": [
       "'/Users/swatimittal/mcqgen/data.txt'"
      ]
     },
     "execution_count": 40,
     "metadata": {},
     "output_type": "execute_result"
    }
   ],
   "source": [
    "file_path"
   ]
  },
  {
   "cell_type": "code",
   "execution_count": 41,
   "metadata": {},
   "outputs": [],
   "source": [
    "with open(file_path, 'r') as file:\n",
    "    text = file.read()"
   ]
  },
  {
   "cell_type": "code",
   "execution_count": 42,
   "metadata": {},
   "outputs": [
    {
     "name": "stdout",
     "output_type": "stream",
     "text": [
      "Machine Learning is mainly divided into three core types: Supervised, Unsupervised and Reinforcement Learning along with two additional types, Semi-Supervised and Self-Supervised Learning.\n",
      "\n",
      "Supervised Learning: Trains models on labeled data to predict or classify new, unseen data.\n",
      "Unsupervised Learning: Finds patterns or groups in unlabeled data, like clustering or dimensionality reduction.\n",
      "Reinforcement Learning: Learns through trial and error to maximize rewards, ideal for decision-making tasks.\n",
      "Note: The following are not part of the original three core types of ML, but they have become increasingly important in real-world applications, especially in deep learning.\n",
      "\n",
      "Additional Types:\n",
      "\n",
      "Self-Supervised Learning: Self-supervised learning is often considered a subset of unsupervised learning, but it has grown into its own field due to its success in training large-scale models. It generates its own labels from the data, without any manual labeling. \n",
      "Semi-Supervised Learning: This approach combines a small amount of labeled data with a large amount of unlabeled data. It’s useful when labeling data is expensive or time-consuming.\n"
     ]
    }
   ],
   "source": [
    "print(text)"
   ]
  },
  {
   "cell_type": "code",
   "execution_count": 43,
   "metadata": {},
   "outputs": [
    {
     "data": {
      "text/plain": [
       "'{\"1\": {\"mcq\": \"multiple choice question\", \"options\": {\"a\": \"choice here\", \"b\": \"choice here\", \"c\": \"choice here\", \"d\": \"choice here\"}, \"correct\": \"correct answer\"}, \"2\": {\"mcq\": \"multiple choice question\", \"options\": {\"a\": \"choice here\", \"b\": \"choice here\", \"c\": \"choice here\", \"d\": \"choice here\"}, \"correct\": \"correct answer\"}, \"3\": {\"mcq\": \"multiple choice question\", \"options\": {\"a\": \"choice here\", \"b\": \"choice here\", \"c\": \"choice here\", \"d\": \"choice here\"}, \"correct\": \"correct answer\"}}'"
      ]
     },
     "execution_count": 43,
     "metadata": {},
     "output_type": "execute_result"
    }
   ],
   "source": [
    "json.dumps(RESPONSE_JSON)"
   ]
  },
  {
   "cell_type": "code",
   "execution_count": 44,
   "metadata": {},
   "outputs": [],
   "source": [
    "NUMBER = 5\n",
    "SUBJECT = \"machine learning\"\n",
    "TONE = \"simple\""
   ]
  },
  {
   "cell_type": "code",
   "execution_count": 47,
   "metadata": {},
   "outputs": [
    {
     "name": "stdout",
     "output_type": "stream",
     "text": [
      "Quiz:\n",
      "  ### RESPONSE_JSON\n",
      "{\n",
      "  \"1\": {\n",
      "    \"mcq\": \"Which of the following is a core type of Machine Learning that trains models on labeled data to predict or classify new, unseen data?\",\n",
      "    \"options\": {\"a\": \"Supervised Learning\", \"b\": \"Unsupervised Learning\", \"c\": \"Reinforcement Learning\", \"d\": \"Self-Supervised Learning\"},\n",
      "    \"correct\": \"a\"\n",
      "  },\n",
      "  \"2\": {\n",
      "    \"mcq\": \"Which of the following Machine Learning approach combines a small amount of labeled data with a large amount of unlabeled data?\",\n",
      "    \"options\": {\"a\": \"Supervised Learning\", \"b\": \"Unsupervised Learning\", \"c\": \"Reinforcement Learning\", \"d\": \"Semi-Supervised Learning\"},\n",
      "    \"correct\": \"d\"\n",
      "  },\n",
      "  \"3\": {\n",
      "    \"mcq\": \"In which type of Machine Learning does the model learn through trial and error to maximize rewards, ideal for decision-making tasks?\",\n",
      "    \"options\": {\"a\": \"Supervised Learning\", \"b\": \"Unsupervised Learning\", \"c\": \"Reinforcement Learning\", \"d\": \"Self-Supervised Learning\"},\n",
      "    \"correct\": \"c\"\n",
      "  },\n",
      "  \"4\": {\n",
      "    \"mcq\": \"Which of the following Machine Learning techniques generates its own labels from the data, without any manual labeling?\",\n",
      "    \"options\": {\"a\": \"Supervised Learning\", \"b\": \"Unsupervised Learning\", \"c\": \"Reinforcement Learning\", \"d\": \"Self-Supervised Learning\"},\n",
      "    \"correct\": \"d\"\n",
      "  },\n",
      "  \"5\": {\n",
      "    \"mcq\": \"Which of the following is a subset of unsupervised learning but has grown into its own field due to its success in training large-scale models?\",\n",
      "    \"options\": {\"a\": \"Supervised Learning\", \"b\": \"Unsupervised Learning\", \"c\": \"Reinforcement Learning\", \"d\": \"Self-Supervised Learning\"},\n",
      "    \"correct\": \"d\"\n",
      "  }\n",
      "}\n",
      "\n",
      "Review:\n",
      "  The quiz appears to be well-structured and suitable for machine learning students, as it tests their understanding of key concepts such as supervised learning, unsupervised learning, reinforcement learning, and self-supervised learning. However, the questions could be made slightly more engaging by adding a brief context or scenario to each question, making them more relatable and interesting for the students. For example:\n",
      "\n",
      "1. In a real-world scenario, a machine learning model is used to predict the likelihood of a customer defaulting on a loan based on their past payment history. Which of the following is a core type of Machine Learning that the model would likely be trained on?\n",
      "   a) Supervised Learning\n",
      "   b) Unsupervised Learning\n",
      "   c) Reinforcement Learning\n",
      "   d) Self-Supervised Learning\n",
      "\n",
      "2. Imagine you are working on a project to automatically categorize images of animals without any prior labels. Which Machine Learning approach would you use to accomplish this task?\n",
      "   a) Supervised Learning\n",
      "   b) Unsupervised Learning\n",
      "   c) Reinforcement Learning\n",
      "   d) Semi-Supervised Learning\n",
      "\n",
      "3. In a game, an agent learns to play a game by receiving rewards for making the right decisions and penalties for making the wrong ones. Which type of Machine Learning is this agent using?\n",
      "   a) Supervised Learning\n",
      "   b) Unsupervised Learning\n",
      "   c) Reinforcement Learning\n",
      "   d) Self-Supervised Learning\n",
      "\n",
      "4. In a situation where a machine learning model generates its own labels from the data, without any manual labeling, which technique is this model using?\n",
      "   a) Supervised Learning\n",
      "   b) Unsupervised Learning\n",
      "   c) Reinforcement Learning\n",
      "   d) Self-Supervised Learning\n",
      "\n",
      "5. A popular Machine Learning technique that has grown out of unsupervised learning is used to train large-scale models for tasks such as image and speech recognition. Which technique is this?\n",
      "   a) Supervised Learning\n",
      "   b) Unsupervised Learning\n",
      "   c) Reinforcement Learning\n",
      "   d) Self-Supervised Learning\n",
      "\n",
      "Token usage: Tokens Used: 2053\n",
      "\tPrompt Tokens: 1124\n",
      "\tCompletion Tokens: 929\n",
      "Successful Requests: 2\n",
      "Total Cost (USD): $0.0\n"
     ]
    }
   ],
   "source": [
    "with get_openai_callback() as cb:\n",
    "    response = generate_evaluate_chain(\n",
    "        {\n",
    "            \"text\": text,\n",
    "            \"number\": NUMBER,\n",
    "            \"subject\": SUBJECT,\n",
    "            \"tone\": TONE,\n",
    "            \"response_json\": json.dumps(RESPONSE_JSON)\n",
    "        }\n",
    "    )\n",
    "    print(\"Quiz:\\n\", response[\"quiz\"])\n",
    "    print(\"\\nReview:\\n\", response[\"review\"])\n",
    "    print(\"\\nToken usage:\", cb)\n"
   ]
  },
  {
   "cell_type": "code",
   "execution_count": 48,
   "metadata": {},
   "outputs": [
    {
     "name": "stdout",
     "output_type": "stream",
     "text": [
      "Total Tokens:2053\n",
      "Prompt Tokens:1124\n",
      "Completion Tokens:929\n",
      "Total Cost:0.0\n"
     ]
    }
   ],
   "source": [
    "print(f\"Total Tokens:{cb.total_tokens}\")\n",
    "print(f\"Prompt Tokens:{cb.prompt_tokens}\")\n",
    "print(f\"Completion Tokens:{cb.completion_tokens}\")\n",
    "print(f\"Total Cost:{cb.total_cost}\")"
   ]
  },
  {
   "cell_type": "code",
   "execution_count": 65,
   "metadata": {},
   "outputs": [
    {
     "data": {
      "text/plain": [
       "{'text': 'Machine Learning is mainly divided into three core types: Supervised, Unsupervised and Reinforcement Learning along with two additional types, Semi-Supervised and Self-Supervised Learning.\\n\\nSupervised Learning: Trains models on labeled data to predict or classify new, unseen data.\\nUnsupervised Learning: Finds patterns or groups in unlabeled data, like clustering or dimensionality reduction.\\nReinforcement Learning: Learns through trial and error to maximize rewards, ideal for decision-making tasks.\\nNote: The following are not part of the original three core types of ML, but they have become increasingly important in real-world applications, especially in deep learning.\\n\\nAdditional Types:\\n\\nSelf-Supervised Learning: Self-supervised learning is often considered a subset of unsupervised learning, but it has grown into its own field due to its success in training large-scale models. It generates its own labels from the data, without any manual labeling. \\nSemi-Supervised Learning: This approach combines a small amount of labeled data with a large amount of unlabeled data. It’s useful when labeling data is expensive or time-consuming.',\n",
       " 'number': 5,\n",
       " 'subject': 'machine learning',\n",
       " 'tone': 'simple',\n",
       " 'response_json': '{\"1\": {\"mcq\": \"multiple choice question\", \"options\": {\"a\": \"choice here\", \"b\": \"choice here\", \"c\": \"choice here\", \"d\": \"choice here\"}, \"correct\": \"correct answer\"}, \"2\": {\"mcq\": \"multiple choice question\", \"options\": {\"a\": \"choice here\", \"b\": \"choice here\", \"c\": \"choice here\", \"d\": \"choice here\"}, \"correct\": \"correct answer\"}, \"3\": {\"mcq\": \"multiple choice question\", \"options\": {\"a\": \"choice here\", \"b\": \"choice here\", \"c\": \"choice here\", \"d\": \"choice here\"}, \"correct\": \"correct answer\"}}',\n",
       " 'quiz': ' ### RESPONSE_JSON\\n{\\n  \"1\": {\\n    \"mcq\": \"Which of the following is a core type of Machine Learning that trains models on labeled data to predict or classify new, unseen data?\",\\n    \"options\": {\"a\": \"Supervised Learning\", \"b\": \"Unsupervised Learning\", \"c\": \"Reinforcement Learning\", \"d\": \"Self-Supervised Learning\"},\\n    \"correct\": \"a\"\\n  },\\n  \"2\": {\\n    \"mcq\": \"Which of the following Machine Learning approach combines a small amount of labeled data with a large amount of unlabeled data?\",\\n    \"options\": {\"a\": \"Supervised Learning\", \"b\": \"Unsupervised Learning\", \"c\": \"Reinforcement Learning\", \"d\": \"Semi-Supervised Learning\"},\\n    \"correct\": \"d\"\\n  },\\n  \"3\": {\\n    \"mcq\": \"In which type of Machine Learning does the model learn through trial and error to maximize rewards, ideal for decision-making tasks?\",\\n    \"options\": {\"a\": \"Supervised Learning\", \"b\": \"Unsupervised Learning\", \"c\": \"Reinforcement Learning\", \"d\": \"Self-Supervised Learning\"},\\n    \"correct\": \"c\"\\n  },\\n  \"4\": {\\n    \"mcq\": \"Which of the following Machine Learning techniques generates its own labels from the data, without any manual labeling?\",\\n    \"options\": {\"a\": \"Supervised Learning\", \"b\": \"Unsupervised Learning\", \"c\": \"Reinforcement Learning\", \"d\": \"Self-Supervised Learning\"},\\n    \"correct\": \"d\"\\n  },\\n  \"5\": {\\n    \"mcq\": \"Which of the following is a subset of unsupervised learning but has grown into its own field due to its success in training large-scale models?\",\\n    \"options\": {\"a\": \"Supervised Learning\", \"b\": \"Unsupervised Learning\", \"c\": \"Reinforcement Learning\", \"d\": \"Self-Supervised Learning\"},\\n    \"correct\": \"d\"\\n  }\\n}',\n",
       " 'review': ' The quiz appears to be well-structured and suitable for machine learning students, as it tests their understanding of key concepts such as supervised learning, unsupervised learning, reinforcement learning, and self-supervised learning. However, the questions could be made slightly more engaging by adding a brief context or scenario to each question, making them more relatable and interesting for the students. For example:\\n\\n1. In a real-world scenario, a machine learning model is used to predict the likelihood of a customer defaulting on a loan based on their past payment history. Which of the following is a core type of Machine Learning that the model would likely be trained on?\\n   a) Supervised Learning\\n   b) Unsupervised Learning\\n   c) Reinforcement Learning\\n   d) Self-Supervised Learning\\n\\n2. Imagine you are working on a project to automatically categorize images of animals without any prior labels. Which Machine Learning approach would you use to accomplish this task?\\n   a) Supervised Learning\\n   b) Unsupervised Learning\\n   c) Reinforcement Learning\\n   d) Semi-Supervised Learning\\n\\n3. In a game, an agent learns to play a game by receiving rewards for making the right decisions and penalties for making the wrong ones. Which type of Machine Learning is this agent using?\\n   a) Supervised Learning\\n   b) Unsupervised Learning\\n   c) Reinforcement Learning\\n   d) Self-Supervised Learning\\n\\n4. In a situation where a machine learning model generates its own labels from the data, without any manual labeling, which technique is this model using?\\n   a) Supervised Learning\\n   b) Unsupervised Learning\\n   c) Reinforcement Learning\\n   d) Self-Supervised Learning\\n\\n5. A popular Machine Learning technique that has grown out of unsupervised learning is used to train large-scale models for tasks such as image and speech recognition. Which technique is this?\\n   a) Supervised Learning\\n   b) Unsupervised Learning\\n   c) Reinforcement Learning\\n   d) Self-Supervised Learning'}"
      ]
     },
     "execution_count": 65,
     "metadata": {},
     "output_type": "execute_result"
    }
   ],
   "source": [
    "response"
   ]
  },
  {
   "cell_type": "code",
   "execution_count": 68,
   "metadata": {},
   "outputs": [],
   "source": [
    "quiz = response.get(\"quiz\")"
   ]
  },
  {
   "cell_type": "code",
   "execution_count": 69,
   "metadata": {},
   "outputs": [
    {
     "name": "stdout",
     "output_type": "stream",
     "text": [
      "{\n",
      "  \"1\": {\n",
      "    \"mcq\": \"Which of the following is a core type of Machine Learning that trains models on labeled data to predict or classify new, unseen data?\",\n",
      "    \"options\": {\n",
      "      \"a\": \"Supervised Learning\",\n",
      "      \"b\": \"Unsupervised Learning\",\n",
      "      \"c\": \"Reinforcement Learning\",\n",
      "      \"d\": \"Self-Supervised Learning\"\n",
      "    },\n",
      "    \"correct\": \"a\"\n",
      "  },\n",
      "  \"2\": {\n",
      "    \"mcq\": \"Which of the following Machine Learning approach combines a small amount of labeled data with a large amount of unlabeled data?\",\n",
      "    \"options\": {\n",
      "      \"a\": \"Supervised Learning\",\n",
      "      \"b\": \"Unsupervised Learning\",\n",
      "      \"c\": \"Reinforcement Learning\",\n",
      "      \"d\": \"Semi-Supervised Learning\"\n",
      "    },\n",
      "    \"correct\": \"d\"\n",
      "  },\n",
      "  \"3\": {\n",
      "    \"mcq\": \"In which type of Machine Learning does the model learn through trial and error to maximize rewards, ideal for decision-making tasks?\",\n",
      "    \"options\": {\n",
      "      \"a\": \"Supervised Learning\",\n",
      "      \"b\": \"Unsupervised Learning\",\n",
      "      \"c\": \"Reinforcement Learning\",\n",
      "      \"d\": \"Self-Supervised Learning\"\n",
      "    },\n",
      "    \"correct\": \"c\"\n",
      "  },\n",
      "  \"4\": {\n",
      "    \"mcq\": \"Which of the following Machine Learning techniques generates its own labels from the data, without any manual labeling?\",\n",
      "    \"options\": {\n",
      "      \"a\": \"Supervised Learning\",\n",
      "      \"b\": \"Unsupervised Learning\",\n",
      "      \"c\": \"Reinforcement Learning\",\n",
      "      \"d\": \"Self-Supervised Learning\"\n",
      "    },\n",
      "    \"correct\": \"d\"\n",
      "  },\n",
      "  \"5\": {\n",
      "    \"mcq\": \"Which of the following is a subset of unsupervised learning but has grown into its own field due to its success in training large-scale models?\",\n",
      "    \"options\": {\n",
      "      \"a\": \"Supervised Learning\",\n",
      "      \"b\": \"Unsupervised Learning\",\n",
      "      \"c\": \"Reinforcement Learning\",\n",
      "      \"d\": \"Self-Supervised Learning\"\n",
      "    },\n",
      "    \"correct\": \"d\"\n",
      "  }\n",
      "}\n"
     ]
    }
   ],
   "source": [
    "import json\n",
    "\n",
    "# Clean and parse\n",
    "clean_quiz = quiz.replace(\"### RESPONSE_JSON\", \"\").strip()\n",
    "quiz_json = json.loads(clean_quiz)\n",
    "\n",
    "# Pretty print\n",
    "print(json.dumps(quiz_json, indent=2))\n"
   ]
  },
  {
   "cell_type": "code",
   "execution_count": 72,
   "metadata": {},
   "outputs": [],
   "source": [
    "quiz_table_data = []\n",
    "for key, value in quiz_json.items():\n",
    "    mcq = value[\"mcq\"]\n",
    "    options = \" | \".join(\n",
    "        [\n",
    "            f\"{option}: {option_value}\"\n",
    "            for option, option_value in value[\"options\"].items()\n",
    "            ]\n",
    "        )\n",
    "    correct = value[\"correct\"]\n",
    "    quiz_table_data.append({\"MCQ\": mcq, \"Choices\": options, \"Correct\": correct})"
   ]
  },
  {
   "cell_type": "code",
   "execution_count": 73,
   "metadata": {},
   "outputs": [
    {
     "data": {
      "text/plain": [
       "[{'MCQ': 'Which of the following is a core type of Machine Learning that trains models on labeled data to predict or classify new, unseen data?',\n",
       "  'Choices': 'a: Supervised Learning | b: Unsupervised Learning | c: Reinforcement Learning | d: Self-Supervised Learning',\n",
       "  'Correct': 'a'},\n",
       " {'MCQ': 'Which of the following Machine Learning approach combines a small amount of labeled data with a large amount of unlabeled data?',\n",
       "  'Choices': 'a: Supervised Learning | b: Unsupervised Learning | c: Reinforcement Learning | d: Semi-Supervised Learning',\n",
       "  'Correct': 'd'},\n",
       " {'MCQ': 'In which type of Machine Learning does the model learn through trial and error to maximize rewards, ideal for decision-making tasks?',\n",
       "  'Choices': 'a: Supervised Learning | b: Unsupervised Learning | c: Reinforcement Learning | d: Self-Supervised Learning',\n",
       "  'Correct': 'c'},\n",
       " {'MCQ': 'Which of the following Machine Learning techniques generates its own labels from the data, without any manual labeling?',\n",
       "  'Choices': 'a: Supervised Learning | b: Unsupervised Learning | c: Reinforcement Learning | d: Self-Supervised Learning',\n",
       "  'Correct': 'd'},\n",
       " {'MCQ': 'Which of the following is a subset of unsupervised learning but has grown into its own field due to its success in training large-scale models?',\n",
       "  'Choices': 'a: Supervised Learning | b: Unsupervised Learning | c: Reinforcement Learning | d: Self-Supervised Learning',\n",
       "  'Correct': 'd'}]"
      ]
     },
     "execution_count": 73,
     "metadata": {},
     "output_type": "execute_result"
    }
   ],
   "source": [
    "quiz_table_data"
   ]
  },
  {
   "cell_type": "code",
   "execution_count": 74,
   "metadata": {},
   "outputs": [],
   "source": [
    "df=pd.DataFrame(quiz_table_data)"
   ]
  },
  {
   "cell_type": "code",
   "execution_count": 75,
   "metadata": {},
   "outputs": [
    {
     "data": {
      "text/html": [
       "<div>\n",
       "<style scoped>\n",
       "    .dataframe tbody tr th:only-of-type {\n",
       "        vertical-align: middle;\n",
       "    }\n",
       "\n",
       "    .dataframe tbody tr th {\n",
       "        vertical-align: top;\n",
       "    }\n",
       "\n",
       "    .dataframe thead th {\n",
       "        text-align: right;\n",
       "    }\n",
       "</style>\n",
       "<table border=\"1\" class=\"dataframe\">\n",
       "  <thead>\n",
       "    <tr style=\"text-align: right;\">\n",
       "      <th></th>\n",
       "      <th>MCQ</th>\n",
       "      <th>Choices</th>\n",
       "      <th>Correct</th>\n",
       "    </tr>\n",
       "  </thead>\n",
       "  <tbody>\n",
       "    <tr>\n",
       "      <th>0</th>\n",
       "      <td>Which of the following is a core type of Machi...</td>\n",
       "      <td>a: Supervised Learning | b: Unsupervised Learn...</td>\n",
       "      <td>a</td>\n",
       "    </tr>\n",
       "    <tr>\n",
       "      <th>1</th>\n",
       "      <td>Which of the following Machine Learning approa...</td>\n",
       "      <td>a: Supervised Learning | b: Unsupervised Learn...</td>\n",
       "      <td>d</td>\n",
       "    </tr>\n",
       "    <tr>\n",
       "      <th>2</th>\n",
       "      <td>In which type of Machine Learning does the mod...</td>\n",
       "      <td>a: Supervised Learning | b: Unsupervised Learn...</td>\n",
       "      <td>c</td>\n",
       "    </tr>\n",
       "    <tr>\n",
       "      <th>3</th>\n",
       "      <td>Which of the following Machine Learning techni...</td>\n",
       "      <td>a: Supervised Learning | b: Unsupervised Learn...</td>\n",
       "      <td>d</td>\n",
       "    </tr>\n",
       "    <tr>\n",
       "      <th>4</th>\n",
       "      <td>Which of the following is a subset of unsuperv...</td>\n",
       "      <td>a: Supervised Learning | b: Unsupervised Learn...</td>\n",
       "      <td>d</td>\n",
       "    </tr>\n",
       "  </tbody>\n",
       "</table>\n",
       "</div>"
      ],
      "text/plain": [
       "                                                 MCQ  \\\n",
       "0  Which of the following is a core type of Machi...   \n",
       "1  Which of the following Machine Learning approa...   \n",
       "2  In which type of Machine Learning does the mod...   \n",
       "3  Which of the following Machine Learning techni...   \n",
       "4  Which of the following is a subset of unsuperv...   \n",
       "\n",
       "                                             Choices Correct  \n",
       "0  a: Supervised Learning | b: Unsupervised Learn...       a  \n",
       "1  a: Supervised Learning | b: Unsupervised Learn...       d  \n",
       "2  a: Supervised Learning | b: Unsupervised Learn...       c  \n",
       "3  a: Supervised Learning | b: Unsupervised Learn...       d  \n",
       "4  a: Supervised Learning | b: Unsupervised Learn...       d  "
      ]
     },
     "execution_count": 75,
     "metadata": {},
     "output_type": "execute_result"
    }
   ],
   "source": [
    "df"
   ]
  },
  {
   "cell_type": "code",
   "execution_count": 76,
   "metadata": {},
   "outputs": [],
   "source": [
    "df.to_csv(\"Data_Science_Quiz.csv\",index=False)"
   ]
  },
  {
   "cell_type": "code",
   "execution_count": null,
   "metadata": {},
   "outputs": [],
   "source": []
  }
 ],
 "metadata": {
  "kernelspec": {
   "display_name": "Python 3",
   "language": "python",
   "name": "python3"
  },
  "language_info": {
   "codemirror_mode": {
    "name": "ipython",
    "version": 3
   },
   "file_extension": ".py",
   "mimetype": "text/x-python",
   "name": "python",
   "nbconvert_exporter": "python",
   "pygments_lexer": "ipython3",
   "version": "3.8.20"
  }
 },
 "nbformat": 4,
 "nbformat_minor": 2
}
